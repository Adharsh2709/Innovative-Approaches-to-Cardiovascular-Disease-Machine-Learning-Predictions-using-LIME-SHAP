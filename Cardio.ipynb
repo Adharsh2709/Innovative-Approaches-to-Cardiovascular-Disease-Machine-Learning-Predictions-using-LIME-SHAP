{
 "cells": [
  {
   "cell_type": "code",
   "execution_count": 59,
   "id": "7a3b3e2c",
   "metadata": {},
   "outputs": [],
   "source": [
    "# Import necessary libraries\n",
    "import pandas as pd  # Pandas for data manipulation and analysis\n",
    "import numpy as np   # NumPy for numerical operations\n"
   ]
  },
  {
   "cell_type": "code",
   "execution_count": 60,
   "id": "931cf143",
   "metadata": {},
   "outputs": [],
   "source": [
    "df = pd.read_csv('C:/Users/adhar/Downloads/cvd-healthcare-data.csv')"
   ]
  },
  {
   "cell_type": "code",
   "execution_count": 61,
   "id": "81bff5ee",
   "metadata": {},
   "outputs": [
    {
     "name": "stdout",
     "output_type": "stream",
     "text": [
      "<class 'pandas.core.frame.DataFrame'>\n",
      "RangeIndex: 303 entries, 0 to 302\n",
      "Data columns (total 14 columns):\n",
      " #   Column    Non-Null Count  Dtype  \n",
      "---  ------    --------------  -----  \n",
      " 0   age       303 non-null    int64  \n",
      " 1   sex       303 non-null    int64  \n",
      " 2   cp        303 non-null    int64  \n",
      " 3   trestbps  303 non-null    int64  \n",
      " 4   chol      303 non-null    int64  \n",
      " 5   fbs       303 non-null    int64  \n",
      " 6   restecg   303 non-null    int64  \n",
      " 7   thalach   303 non-null    int64  \n",
      " 8   exang     303 non-null    int64  \n",
      " 9   oldpeak   303 non-null    float64\n",
      " 10  slope     303 non-null    int64  \n",
      " 11  ca        303 non-null    int64  \n",
      " 12  thal      303 non-null    int64  \n",
      " 13  target    303 non-null    int64  \n",
      "dtypes: float64(1), int64(13)\n",
      "memory usage: 33.3 KB\n"
     ]
    }
   ],
   "source": [
    "df.info()"
   ]
  },
  {
   "cell_type": "code",
   "execution_count": 62,
   "id": "696026fb",
   "metadata": {},
   "outputs": [
    {
     "data": {
      "text/html": [
       "<div>\n",
       "<style scoped>\n",
       "    .dataframe tbody tr th:only-of-type {\n",
       "        vertical-align: middle;\n",
       "    }\n",
       "\n",
       "    .dataframe tbody tr th {\n",
       "        vertical-align: top;\n",
       "    }\n",
       "\n",
       "    .dataframe thead th {\n",
       "        text-align: right;\n",
       "    }\n",
       "</style>\n",
       "<table border=\"1\" class=\"dataframe\">\n",
       "  <thead>\n",
       "    <tr style=\"text-align: right;\">\n",
       "      <th></th>\n",
       "      <th>age</th>\n",
       "      <th>sex</th>\n",
       "      <th>cp</th>\n",
       "      <th>trestbps</th>\n",
       "      <th>chol</th>\n",
       "      <th>fbs</th>\n",
       "      <th>restecg</th>\n",
       "      <th>thalach</th>\n",
       "      <th>exang</th>\n",
       "      <th>oldpeak</th>\n",
       "      <th>slope</th>\n",
       "      <th>ca</th>\n",
       "      <th>thal</th>\n",
       "      <th>target</th>\n",
       "    </tr>\n",
       "  </thead>\n",
       "  <tbody>\n",
       "    <tr>\n",
       "      <th>0</th>\n",
       "      <td>63</td>\n",
       "      <td>1</td>\n",
       "      <td>3</td>\n",
       "      <td>145</td>\n",
       "      <td>233</td>\n",
       "      <td>1</td>\n",
       "      <td>0</td>\n",
       "      <td>150</td>\n",
       "      <td>0</td>\n",
       "      <td>2.3</td>\n",
       "      <td>0</td>\n",
       "      <td>0</td>\n",
       "      <td>1</td>\n",
       "      <td>1</td>\n",
       "    </tr>\n",
       "    <tr>\n",
       "      <th>1</th>\n",
       "      <td>37</td>\n",
       "      <td>1</td>\n",
       "      <td>2</td>\n",
       "      <td>130</td>\n",
       "      <td>250</td>\n",
       "      <td>0</td>\n",
       "      <td>1</td>\n",
       "      <td>187</td>\n",
       "      <td>0</td>\n",
       "      <td>3.5</td>\n",
       "      <td>0</td>\n",
       "      <td>0</td>\n",
       "      <td>2</td>\n",
       "      <td>1</td>\n",
       "    </tr>\n",
       "    <tr>\n",
       "      <th>2</th>\n",
       "      <td>41</td>\n",
       "      <td>0</td>\n",
       "      <td>1</td>\n",
       "      <td>130</td>\n",
       "      <td>204</td>\n",
       "      <td>0</td>\n",
       "      <td>0</td>\n",
       "      <td>172</td>\n",
       "      <td>0</td>\n",
       "      <td>1.4</td>\n",
       "      <td>2</td>\n",
       "      <td>0</td>\n",
       "      <td>2</td>\n",
       "      <td>1</td>\n",
       "    </tr>\n",
       "    <tr>\n",
       "      <th>3</th>\n",
       "      <td>56</td>\n",
       "      <td>1</td>\n",
       "      <td>1</td>\n",
       "      <td>120</td>\n",
       "      <td>236</td>\n",
       "      <td>0</td>\n",
       "      <td>1</td>\n",
       "      <td>178</td>\n",
       "      <td>0</td>\n",
       "      <td>0.8</td>\n",
       "      <td>2</td>\n",
       "      <td>0</td>\n",
       "      <td>2</td>\n",
       "      <td>1</td>\n",
       "    </tr>\n",
       "    <tr>\n",
       "      <th>4</th>\n",
       "      <td>57</td>\n",
       "      <td>0</td>\n",
       "      <td>0</td>\n",
       "      <td>120</td>\n",
       "      <td>354</td>\n",
       "      <td>0</td>\n",
       "      <td>1</td>\n",
       "      <td>163</td>\n",
       "      <td>1</td>\n",
       "      <td>0.6</td>\n",
       "      <td>2</td>\n",
       "      <td>0</td>\n",
       "      <td>2</td>\n",
       "      <td>1</td>\n",
       "    </tr>\n",
       "  </tbody>\n",
       "</table>\n",
       "</div>"
      ],
      "text/plain": [
       "   age  sex  cp  trestbps  chol  fbs  restecg  thalach  exang  oldpeak  slope  \\\n",
       "0   63    1   3       145   233    1        0      150      0      2.3      0   \n",
       "1   37    1   2       130   250    0        1      187      0      3.5      0   \n",
       "2   41    0   1       130   204    0        0      172      0      1.4      2   \n",
       "3   56    1   1       120   236    0        1      178      0      0.8      2   \n",
       "4   57    0   0       120   354    0        1      163      1      0.6      2   \n",
       "\n",
       "   ca  thal  target  \n",
       "0   0     1       1  \n",
       "1   0     2       1  \n",
       "2   0     2       1  \n",
       "3   0     2       1  \n",
       "4   0     2       1  "
      ]
     },
     "execution_count": 62,
     "metadata": {},
     "output_type": "execute_result"
    }
   ],
   "source": [
    "df.head()"
   ]
  },
  {
   "cell_type": "code",
   "execution_count": 63,
   "id": "052faaf8",
   "metadata": {},
   "outputs": [],
   "source": [
    "X=df.drop('target',axis=1)\n",
    "y=df['target']"
   ]
  },
  {
   "cell_type": "code",
   "execution_count": 64,
   "id": "5a8f0772",
   "metadata": {},
   "outputs": [
    {
     "name": "stdout",
     "output_type": "stream",
     "text": [
      "     age  sex  cp  trestbps  chol  fbs  restecg  thalach  exang  oldpeak  \\\n",
      "0     63    1   3       145   233    1        0      150      0      2.3   \n",
      "1     37    1   2       130   250    0        1      187      0      3.5   \n",
      "2     41    0   1       130   204    0        0      172      0      1.4   \n",
      "3     56    1   1       120   236    0        1      178      0      0.8   \n",
      "4     57    0   0       120   354    0        1      163      1      0.6   \n",
      "..   ...  ...  ..       ...   ...  ...      ...      ...    ...      ...   \n",
      "298   57    0   0       140   241    0        1      123      1      0.2   \n",
      "299   45    1   3       110   264    0        1      132      0      1.2   \n",
      "300   68    1   0       144   193    1        1      141      0      3.4   \n",
      "301   57    1   0       130   131    0        1      115      1      1.2   \n",
      "302   57    0   1       130   236    0        0      174      0      0.0   \n",
      "\n",
      "     slope  ca  thal  target  \n",
      "0        0   0     1       1  \n",
      "1        0   0     2       1  \n",
      "2        2   0     2       1  \n",
      "3        2   0     2       1  \n",
      "4        2   0     2       1  \n",
      "..     ...  ..   ...     ...  \n",
      "298      1   0     3       0  \n",
      "299      1   0     3       0  \n",
      "300      1   2     3       0  \n",
      "301      1   1     3       0  \n",
      "302      1   1     2       0  \n",
      "\n",
      "[303 rows x 14 columns]\n"
     ]
    }
   ],
   "source": [
    "print(df)"
   ]
  },
  {
   "cell_type": "code",
   "execution_count": 65,
   "id": "3be4cb9e",
   "metadata": {},
   "outputs": [],
   "source": [
    "from sklearn.model_selection import train_test_split\n",
    "X_train, X_test, y_train, y_test = train_test_split(X , y, test_size=0.2, random_state=2) #splitting the data into training and testing samples"
   ]
  },
  {
   "cell_type": "markdown",
   "id": "fbe93911",
   "metadata": {},
   "source": [
    "# 1. Random Forest Classifier:"
   ]
  },
  {
   "cell_type": "code",
   "execution_count": 66,
   "id": "0ad66002",
   "metadata": {},
   "outputs": [],
   "source": [
    "from sklearn.ensemble import RandomForestClassifier"
   ]
  },
  {
   "cell_type": "code",
   "execution_count": 67,
   "id": "3dc2c613",
   "metadata": {},
   "outputs": [],
   "source": [
    "rf_class = RandomForestClassifier(n_estimators=20,oob_score =True)"
   ]
  },
  {
   "cell_type": "code",
   "execution_count": 68,
   "id": "14bfb61c",
   "metadata": {},
   "outputs": [
    {
     "data": {
      "text/html": [
       "<style>#sk-container-id-5 {color: black;}#sk-container-id-5 pre{padding: 0;}#sk-container-id-5 div.sk-toggleable {background-color: white;}#sk-container-id-5 label.sk-toggleable__label {cursor: pointer;display: block;width: 100%;margin-bottom: 0;padding: 0.3em;box-sizing: border-box;text-align: center;}#sk-container-id-5 label.sk-toggleable__label-arrow:before {content: \"▸\";float: left;margin-right: 0.25em;color: #696969;}#sk-container-id-5 label.sk-toggleable__label-arrow:hover:before {color: black;}#sk-container-id-5 div.sk-estimator:hover label.sk-toggleable__label-arrow:before {color: black;}#sk-container-id-5 div.sk-toggleable__content {max-height: 0;max-width: 0;overflow: hidden;text-align: left;background-color: #f0f8ff;}#sk-container-id-5 div.sk-toggleable__content pre {margin: 0.2em;color: black;border-radius: 0.25em;background-color: #f0f8ff;}#sk-container-id-5 input.sk-toggleable__control:checked~div.sk-toggleable__content {max-height: 200px;max-width: 100%;overflow: auto;}#sk-container-id-5 input.sk-toggleable__control:checked~label.sk-toggleable__label-arrow:before {content: \"▾\";}#sk-container-id-5 div.sk-estimator input.sk-toggleable__control:checked~label.sk-toggleable__label {background-color: #d4ebff;}#sk-container-id-5 div.sk-label input.sk-toggleable__control:checked~label.sk-toggleable__label {background-color: #d4ebff;}#sk-container-id-5 input.sk-hidden--visually {border: 0;clip: rect(1px 1px 1px 1px);clip: rect(1px, 1px, 1px, 1px);height: 1px;margin: -1px;overflow: hidden;padding: 0;position: absolute;width: 1px;}#sk-container-id-5 div.sk-estimator {font-family: monospace;background-color: #f0f8ff;border: 1px dotted black;border-radius: 0.25em;box-sizing: border-box;margin-bottom: 0.5em;}#sk-container-id-5 div.sk-estimator:hover {background-color: #d4ebff;}#sk-container-id-5 div.sk-parallel-item::after {content: \"\";width: 100%;border-bottom: 1px solid gray;flex-grow: 1;}#sk-container-id-5 div.sk-label:hover label.sk-toggleable__label {background-color: #d4ebff;}#sk-container-id-5 div.sk-serial::before {content: \"\";position: absolute;border-left: 1px solid gray;box-sizing: border-box;top: 0;bottom: 0;left: 50%;z-index: 0;}#sk-container-id-5 div.sk-serial {display: flex;flex-direction: column;align-items: center;background-color: white;padding-right: 0.2em;padding-left: 0.2em;position: relative;}#sk-container-id-5 div.sk-item {position: relative;z-index: 1;}#sk-container-id-5 div.sk-parallel {display: flex;align-items: stretch;justify-content: center;background-color: white;position: relative;}#sk-container-id-5 div.sk-item::before, #sk-container-id-5 div.sk-parallel-item::before {content: \"\";position: absolute;border-left: 1px solid gray;box-sizing: border-box;top: 0;bottom: 0;left: 50%;z-index: -1;}#sk-container-id-5 div.sk-parallel-item {display: flex;flex-direction: column;z-index: 1;position: relative;background-color: white;}#sk-container-id-5 div.sk-parallel-item:first-child::after {align-self: flex-end;width: 50%;}#sk-container-id-5 div.sk-parallel-item:last-child::after {align-self: flex-start;width: 50%;}#sk-container-id-5 div.sk-parallel-item:only-child::after {width: 0;}#sk-container-id-5 div.sk-dashed-wrapped {border: 1px dashed gray;margin: 0 0.4em 0.5em 0.4em;box-sizing: border-box;padding-bottom: 0.4em;background-color: white;}#sk-container-id-5 div.sk-label label {font-family: monospace;font-weight: bold;display: inline-block;line-height: 1.2em;}#sk-container-id-5 div.sk-label-container {text-align: center;}#sk-container-id-5 div.sk-container {/* jupyter's `normalize.less` sets `[hidden] { display: none; }` but bootstrap.min.css set `[hidden] { display: none !important; }` so we also need the `!important` here to be able to override the default hidden behavior on the sphinx rendered scikit-learn.org. See: https://github.com/scikit-learn/scikit-learn/issues/21755 */display: inline-block !important;position: relative;}#sk-container-id-5 div.sk-text-repr-fallback {display: none;}</style><div id=\"sk-container-id-5\" class=\"sk-top-container\"><div class=\"sk-text-repr-fallback\"><pre>RandomForestClassifier(n_estimators=20, oob_score=True)</pre><b>In a Jupyter environment, please rerun this cell to show the HTML representation or trust the notebook. <br />On GitHub, the HTML representation is unable to render, please try loading this page with nbviewer.org.</b></div><div class=\"sk-container\" hidden><div class=\"sk-item\"><div class=\"sk-estimator sk-toggleable\"><input class=\"sk-toggleable__control sk-hidden--visually\" id=\"sk-estimator-id-5\" type=\"checkbox\" checked><label for=\"sk-estimator-id-5\" class=\"sk-toggleable__label sk-toggleable__label-arrow\">RandomForestClassifier</label><div class=\"sk-toggleable__content\"><pre>RandomForestClassifier(n_estimators=20, oob_score=True)</pre></div></div></div></div></div>"
      ],
      "text/plain": [
       "RandomForestClassifier(n_estimators=20, oob_score=True)"
      ]
     },
     "execution_count": 68,
     "metadata": {},
     "output_type": "execute_result"
    }
   ],
   "source": [
    "rf_class.fit(X_train,y_train)"
   ]
  },
  {
   "cell_type": "code",
   "execution_count": 69,
   "id": "8e385ae2",
   "metadata": {},
   "outputs": [],
   "source": [
    "y_pred= rf_class.predict(X_test)"
   ]
  },
  {
   "cell_type": "code",
   "execution_count": 70,
   "id": "bb3e980b",
   "metadata": {},
   "outputs": [],
   "source": [
    "from sklearn.metrics import confusion_matrix , accuracy_score , classification_report"
   ]
  },
  {
   "cell_type": "code",
   "execution_count": 71,
   "id": "65f83799",
   "metadata": {},
   "outputs": [
    {
     "name": "stdout",
     "output_type": "stream",
     "text": [
      "[[25  7]\n",
      " [ 2 27]]\n",
      "0.8524590163934426\n",
      "              precision    recall  f1-score   support\n",
      "\n",
      "           0       0.93      0.78      0.85        32\n",
      "           1       0.79      0.93      0.86        29\n",
      "\n",
      "    accuracy                           0.85        61\n",
      "   macro avg       0.86      0.86      0.85        61\n",
      "weighted avg       0.86      0.85      0.85        61\n",
      "\n"
     ]
    }
   ],
   "source": [
    "print(confusion_matrix(y_test,y_pred))\n",
    "print(accuracy_score(y_test,y_pred))\n",
    "print(classification_report(y_test,y_pred))"
   ]
  },
  {
   "cell_type": "markdown",
   "id": "89fe6508",
   "metadata": {},
   "source": [
    "confusion matrix"
   ]
  },
  {
   "cell_type": "code",
   "execution_count": 72,
   "id": "ae529be8",
   "metadata": {},
   "outputs": [
    {
     "data": {
      "image/png": "[encoded data removed]",
      "text/plain": [
       "<Figure size 640x480 with 1 Axes>"
      ]
     },
     "metadata": {},
     "output_type": "display_data"
    }
   ],
   "source": [
    "from sklearn.metrics import confusion_matrix\n",
    "import seaborn as sns\n",
    "import matplotlib.pyplot as plt\n",
    "\n",
    "cm = confusion_matrix(y_test, y_pred)\n",
    "sns.heatmap(cm, annot=True, fmt='d', cmap='Blues', cbar=False)\n",
    "plt.xlabel('Predicted Labels')\n",
    "plt.ylabel('True Labels')\n",
    "plt.title('Confusion Matrix for Random Forest')\n",
    "plt.show()\n"
   ]
  },
  {
   "cell_type": "markdown",
   "id": "fcf2f389",
   "metadata": {},
   "source": [
    "# 2. Logistic Regression :"
   ]
  },
  {
   "cell_type": "code",
   "execution_count": 90,
   "id": "a588e440",
   "metadata": {},
   "outputs": [
    {
     "name": "stdout",
     "output_type": "stream",
     "text": [
      "[[26  6]\n",
      " [ 0 29]]\n",
      "0.9016393442622951\n",
      "              precision    recall  f1-score   support\n",
      "\n",
      "           0       1.00      0.81      0.90        32\n",
      "           1       0.83      1.00      0.91        29\n",
      "\n",
      "    accuracy                           0.90        61\n",
      "   macro avg       0.91      0.91      0.90        61\n",
      "weighted avg       0.92      0.90      0.90        61\n",
      "\n",
      "0.8285714285714286\n",
      "1.0\n",
      "0.90625\n"
     ]
    }
   ],
   "source": [
    "from sklearn.linear_model import LogisticRegression\n",
    "logreg = LogisticRegression(random_state= 0)\n",
    "logreg.fit(X_train,y_train)\n",
    "pred_y_logreg = logreg.predict(X_test)\n",
    "from sklearn.metrics import confusion_matrix, classification_report , accuracy_score,precision_score,recall_score,f1_score\n",
    "print(confusion_matrix(y_test,pred_y_logreg))\n",
    "print(accuracy_score(y_test,pred_y_logreg))\n",
    "print(classification_report(y_test,pred_y_logreg))\n",
    "print(precision_score(y_test, pred_y_logreg))\n",
    "print(recall_score(y_test, pred_y_logreg))\n",
    "print(f1_score(y_test, pred_y_logreg))"
   ]
  },
  {
   "cell_type": "code",
   "execution_count": 74,
   "id": "ed554987",
   "metadata": {},
   "outputs": [
    {
     "data": {
      "image/png": "[encoded data removed]",
      "text/plain": [
       "<Figure size 800x600 with 2 Axes>"
      ]
     },
     "metadata": {},
     "output_type": "display_data"
    }
   ],
   "source": [
    "import numpy as np\n",
    "import matplotlib.pyplot as plt\n",
    "import seaborn as sns\n",
    "from sklearn.metrics import confusion_matrix\n",
    "from sklearn.metrics import accuracy_score\n",
    "\n",
    "# Create a confusion matrix\n",
    "cm = confusion_matrix(y_test, pred_y_logreg)\n",
    "ac=accuracy_score(y_test,pred_y_logreg)\n",
    "\n",
    "# Normalize the confusion matrix if needed\n",
    "cm = cm.astype('float') / cm.sum(axis=1)[:, np.newaxis]\n",
    "\n",
    "# Create a heatmap\n",
    "plt.figure(figsize=(8, 6))\n",
    "sns.heatmap(cm, annot=True, fmt=\".2f\", cmap=\"Blues\", xticklabels=[0, 1], yticklabels=[0, 1])\n",
    "\n",
    "plt.title('Confusion Matrix Heatmap')\n",
    "plt.xlabel('Predicted Label')\n",
    "plt.ylabel('True Label')\n",
    "plt.show()"
   ]
  },
  {
   "cell_type": "code",
   "execution_count": 75,
   "id": "bdaedc49",
   "metadata": {},
   "outputs": [],
   "source": [
    "import warnings\n",
    "\n",
    "# Ignore all warnings\n",
    "warnings.filterwarnings(\"ignore\")\n"
   ]
  },
  {
   "cell_type": "code",
   "execution_count": null,
   "id": "6bb18695",
   "metadata": {},
   "outputs": [],
   "source": []
  },
  {
   "cell_type": "markdown",
   "id": "113832cf",
   "metadata": {},
   "source": [
    "# 3. KNN -   K- Nearest Neighbour:"
   ]
  },
  {
   "cell_type": "code",
   "execution_count": 76,
   "id": "af19f8cc",
   "metadata": {},
   "outputs": [
    {
     "name": "stdout",
     "output_type": "stream",
     "text": [
      "[[20 12]\n",
      " [ 3 26]]\n",
      "0.7540983606557377\n",
      "              precision    recall  f1-score   support\n",
      "\n",
      "           0       0.87      0.62      0.73        32\n",
      "           1       0.68      0.90      0.78        29\n",
      "\n",
      "    accuracy                           0.75        61\n",
      "   macro avg       0.78      0.76      0.75        61\n",
      "weighted avg       0.78      0.75      0.75        61\n",
      "\n",
      "0.6842105263157895\n",
      "0.896551724137931\n",
      "0.7761194029850746\n"
     ]
    }
   ],
   "source": [
    "from sklearn.neighbors import KNeighborsClassifier\n",
    "knn = KNeighborsClassifier(n_neighbors=19)\n",
    "knn.fit(X_train,y_train)\n",
    "pred_y_knn= knn.predict(X_test)\n",
    "from sklearn.metrics import confusion_matrix, classification_report , accuracy_score\n",
    "print(confusion_matrix(y_test,pred_y_knn))\n",
    "print(accuracy_score(y_test,pred_y_knn))\n",
    "print(classification_report(y_test,pred_y_knn))\n",
    "print(precision_score(y_test, pred_y_knn))\n",
    "print(recall_score(y_test, pred_y_knn))\n",
    "print(f1_score(y_test, pred_y_knn))"
   ]
  },
  {
   "cell_type": "markdown",
   "id": "2acd0972",
   "metadata": {},
   "source": [
    "# 4.  SVM - Support Vector Machine  :\n",
    "\n",
    "### a) linear kernal"
   ]
  },
  {
   "cell_type": "code",
   "execution_count": 77,
   "id": "6a736a63",
   "metadata": {},
   "outputs": [
    {
     "name": "stdout",
     "output_type": "stream",
     "text": [
      "[[27  5]\n",
      " [ 1 28]]\n",
      "0.9016393442622951\n",
      "              precision    recall  f1-score   support\n",
      "\n",
      "           0       0.96      0.84      0.90        32\n",
      "           1       0.85      0.97      0.90        29\n",
      "\n",
      "    accuracy                           0.90        61\n",
      "   macro avg       0.91      0.90      0.90        61\n",
      "weighted avg       0.91      0.90      0.90        61\n",
      "\n",
      "0.8484848484848485\n",
      "0.9655172413793104\n",
      "0.9032258064516129\n"
     ]
    }
   ],
   "source": [
    "from sklearn import svm\n",
    "clf=svm.SVC(kernel='linear',C=0.03,gamma=0.09,decision_function_shape='ovr')\n",
    "clf.fit(X_train,y_train)\n",
    "pred_y_svm_lin =clf.predict(X_test)\n",
    "print(confusion_matrix(y_test,pred_y_svm_lin))\n",
    "print(accuracy_score(y_test,pred_y_svm_lin))\n",
    "print(classification_report(y_test,pred_y_svm_lin))\n",
    "print(precision_score(y_test, pred_y_svm_lin))\n",
    "print(recall_score(y_test, pred_y_svm_lin))\n",
    "print(f1_score(y_test, pred_y_svm_lin))"
   ]
  },
  {
   "cell_type": "markdown",
   "id": "139c5fec",
   "metadata": {},
   "source": [
    "### b) polynomial kernel"
   ]
  },
  {
   "cell_type": "code",
   "execution_count": 78,
   "id": "9fcaf184",
   "metadata": {},
   "outputs": [
    {
     "name": "stdout",
     "output_type": "stream",
     "text": [
      "[[18 14]\n",
      " [ 2 27]]\n",
      "0.7377049180327869\n",
      "              precision    recall  f1-score   support\n",
      "\n",
      "           0       0.90      0.56      0.69        32\n",
      "           1       0.66      0.93      0.77        29\n",
      "\n",
      "    accuracy                           0.74        61\n",
      "   macro avg       0.78      0.75      0.73        61\n",
      "weighted avg       0.79      0.74      0.73        61\n",
      "\n",
      "0.6585365853658537\n",
      "0.9310344827586207\n",
      "0.7714285714285715\n"
     ]
    }
   ],
   "source": [
    "from sklearn import svm\n",
    "clf=svm.SVC(kernel='poly',C=0.95,decision_function_shape='ovr')\n",
    "clf.fit(X_train,y_train)\n",
    "pred_y_svm =clf.predict(X_test)\n",
    "print(confusion_matrix(y_test,pred_y_svm))\n",
    "print(accuracy_score(y_test,pred_y_svm))\n",
    "print(classification_report(y_test,pred_y_svm))\n",
    "print(precision_score(y_test, pred_y_svm))\n",
    "print(recall_score(y_test, pred_y_svm))\n",
    "print(f1_score(y_test, pred_y_svm))"
   ]
  },
  {
   "cell_type": "markdown",
   "id": "edebee81",
   "metadata": {},
   "source": [
    "### c) rbf kernel "
   ]
  },
  {
   "cell_type": "code",
   "execution_count": 79,
   "id": "6d95f047",
   "metadata": {},
   "outputs": [
    {
     "name": "stdout",
     "output_type": "stream",
     "text": [
      "[[12 20]\n",
      " [ 2 27]]\n",
      "0.639344262295082\n",
      "              precision    recall  f1-score   support\n",
      "\n",
      "           0       0.86      0.38      0.52        32\n",
      "           1       0.57      0.93      0.71        29\n",
      "\n",
      "    accuracy                           0.64        61\n",
      "   macro avg       0.72      0.65      0.62        61\n",
      "weighted avg       0.72      0.64      0.61        61\n",
      "\n",
      "0.574468085106383\n",
      "0.9310344827586207\n",
      "0.7105263157894737\n"
     ]
    }
   ],
   "source": [
    "from sklearn import svm\n",
    "clf=svm.SVC(kernel='rbf',C=0.9,decision_function_shape='ovr')\n",
    "clf.fit(X_train,y_train)\n",
    "pred_y_svm =clf.predict(X_test)\n",
    "print(confusion_matrix(y_test,pred_y_svm))\n",
    "print(accuracy_score(y_test,pred_y_svm))\n",
    "print(classification_report(y_test,pred_y_svm))\n",
    "print(precision_score(y_test, pred_y_svm))\n",
    "print(recall_score(y_test, pred_y_svm))\n",
    "print(f1_score(y_test, pred_y_svm))\n"
   ]
  },
  {
   "cell_type": "markdown",
   "id": "c49af5c8",
   "metadata": {},
   "source": [
    "### d) sigmoid "
   ]
  },
  {
   "cell_type": "code",
   "execution_count": 80,
   "id": "4a8e1490",
   "metadata": {},
   "outputs": [
    {
     "name": "stdout",
     "output_type": "stream",
     "text": [
      "[[ 0 32]\n",
      " [ 0 29]]\n",
      "0.47540983606557374\n",
      "              precision    recall  f1-score   support\n",
      "\n",
      "           0       0.00      0.00      0.00        32\n",
      "           1       0.48      1.00      0.64        29\n",
      "\n",
      "    accuracy                           0.48        61\n",
      "   macro avg       0.24      0.50      0.32        61\n",
      "weighted avg       0.23      0.48      0.31        61\n",
      "\n",
      "0.47540983606557374\n",
      "1.0\n",
      "0.6444444444444445\n"
     ]
    }
   ],
   "source": [
    "from sklearn import svm\n",
    "clf=svm.SVC(kernel='sigmoid',C=0.2,decision_function_shape='ovr')\n",
    "clf.fit(X_train,y_train)\n",
    "pred_y_svm =clf.predict(X_test)\n",
    "print(confusion_matrix(y_test,pred_y_svm))\n",
    "print(accuracy_score(y_test,pred_y_svm))\n",
    "print(classification_report(y_test,pred_y_svm))\n",
    "print(precision_score(y_test, pred_y_svm))\n",
    "print(recall_score(y_test, pred_y_svm))\n",
    "print(f1_score(y_test, pred_y_svm))"
   ]
  },
  {
   "cell_type": "markdown",
   "id": "5095cb20",
   "metadata": {},
   "source": [
    "# 5. Decision Tree"
   ]
  },
  {
   "cell_type": "code",
   "execution_count": 81,
   "id": "e72d1a21",
   "metadata": {},
   "outputs": [
    {
     "data": {
      "text/html": [
       "<style>#sk-container-id-6 {color: black;}#sk-container-id-6 pre{padding: 0;}#sk-container-id-6 div.sk-toggleable {background-color: white;}#sk-container-id-6 label.sk-toggleable__label {cursor: pointer;display: block;width: 100%;margin-bottom: 0;padding: 0.3em;box-sizing: border-box;text-align: center;}#sk-container-id-6 label.sk-toggleable__label-arrow:before {content: \"▸\";float: left;margin-right: 0.25em;color: #696969;}#sk-container-id-6 label.sk-toggleable__label-arrow:hover:before {color: black;}#sk-container-id-6 div.sk-estimator:hover label.sk-toggleable__label-arrow:before {color: black;}#sk-container-id-6 div.sk-toggleable__content {max-height: 0;max-width: 0;overflow: hidden;text-align: left;background-color: #f0f8ff;}#sk-container-id-6 div.sk-toggleable__content pre {margin: 0.2em;color: black;border-radius: 0.25em;background-color: #f0f8ff;}#sk-container-id-6 input.sk-toggleable__control:checked~div.sk-toggleable__content {max-height: 200px;max-width: 100%;overflow: auto;}#sk-container-id-6 input.sk-toggleable__control:checked~label.sk-toggleable__label-arrow:before {content: \"▾\";}#sk-container-id-6 div.sk-estimator input.sk-toggleable__control:checked~label.sk-toggleable__label {background-color: #d4ebff;}#sk-container-id-6 div.sk-label input.sk-toggleable__control:checked~label.sk-toggleable__label {background-color: #d4ebff;}#sk-container-id-6 input.sk-hidden--visually {border: 0;clip: rect(1px 1px 1px 1px);clip: rect(1px, 1px, 1px, 1px);height: 1px;margin: -1px;overflow: hidden;padding: 0;position: absolute;width: 1px;}#sk-container-id-6 div.sk-estimator {font-family: monospace;background-color: #f0f8ff;border: 1px dotted black;border-radius: 0.25em;box-sizing: border-box;margin-bottom: 0.5em;}#sk-container-id-6 div.sk-estimator:hover {background-color: #d4ebff;}#sk-container-id-6 div.sk-parallel-item::after {content: \"\";width: 100%;border-bottom: 1px solid gray;flex-grow: 1;}#sk-container-id-6 div.sk-label:hover label.sk-toggleable__label {background-color: #d4ebff;}#sk-container-id-6 div.sk-serial::before {content: \"\";position: absolute;border-left: 1px solid gray;box-sizing: border-box;top: 0;bottom: 0;left: 50%;z-index: 0;}#sk-container-id-6 div.sk-serial {display: flex;flex-direction: column;align-items: center;background-color: white;padding-right: 0.2em;padding-left: 0.2em;position: relative;}#sk-container-id-6 div.sk-item {position: relative;z-index: 1;}#sk-container-id-6 div.sk-parallel {display: flex;align-items: stretch;justify-content: center;background-color: white;position: relative;}#sk-container-id-6 div.sk-item::before, #sk-container-id-6 div.sk-parallel-item::before {content: \"\";position: absolute;border-left: 1px solid gray;box-sizing: border-box;top: 0;bottom: 0;left: 50%;z-index: -1;}#sk-container-id-6 div.sk-parallel-item {display: flex;flex-direction: column;z-index: 1;position: relative;background-color: white;}#sk-container-id-6 div.sk-parallel-item:first-child::after {align-self: flex-end;width: 50%;}#sk-container-id-6 div.sk-parallel-item:last-child::after {align-self: flex-start;width: 50%;}#sk-container-id-6 div.sk-parallel-item:only-child::after {width: 0;}#sk-container-id-6 div.sk-dashed-wrapped {border: 1px dashed gray;margin: 0 0.4em 0.5em 0.4em;box-sizing: border-box;padding-bottom: 0.4em;background-color: white;}#sk-container-id-6 div.sk-label label {font-family: monospace;font-weight: bold;display: inline-block;line-height: 1.2em;}#sk-container-id-6 div.sk-label-container {text-align: center;}#sk-container-id-6 div.sk-container {/* jupyter's `normalize.less` sets `[hidden] { display: none; }` but bootstrap.min.css set `[hidden] { display: none !important; }` so we also need the `!important` here to be able to override the default hidden behavior on the sphinx rendered scikit-learn.org. See: https://github.com/scikit-learn/scikit-learn/issues/21755 */display: inline-block !important;position: relative;}#sk-container-id-6 div.sk-text-repr-fallback {display: none;}</style><div id=\"sk-container-id-6\" class=\"sk-top-container\"><div class=\"sk-text-repr-fallback\"><pre>DecisionTreeClassifier()</pre><b>In a Jupyter environment, please rerun this cell to show the HTML representation or trust the notebook. <br />On GitHub, the HTML representation is unable to render, please try loading this page with nbviewer.org.</b></div><div class=\"sk-container\" hidden><div class=\"sk-item\"><div class=\"sk-estimator sk-toggleable\"><input class=\"sk-toggleable__control sk-hidden--visually\" id=\"sk-estimator-id-6\" type=\"checkbox\" checked><label for=\"sk-estimator-id-6\" class=\"sk-toggleable__label sk-toggleable__label-arrow\">DecisionTreeClassifier</label><div class=\"sk-toggleable__content\"><pre>DecisionTreeClassifier()</pre></div></div></div></div></div>"
      ],
      "text/plain": [
       "DecisionTreeClassifier()"
      ]
     },
     "execution_count": 81,
     "metadata": {},
     "output_type": "execute_result"
    }
   ],
   "source": [
    "from sklearn.tree import DecisionTreeClassifier\n",
    "dtree=  DecisionTreeClassifier(criterion=\"gini\")\n",
    "dtree.fit(X_train,y_train)"
   ]
  },
  {
   "cell_type": "code",
   "execution_count": 82,
   "id": "1f9f5fa6",
   "metadata": {},
   "outputs": [
    {
     "name": "stdout",
     "output_type": "stream",
     "text": [
      "[[25  7]\n",
      " [ 2 27]]\n",
      "0.8524590163934426\n",
      "              precision    recall  f1-score   support\n",
      "\n",
      "           0       0.93      0.78      0.85        32\n",
      "           1       0.79      0.93      0.86        29\n",
      "\n",
      "    accuracy                           0.85        61\n",
      "   macro avg       0.86      0.86      0.85        61\n",
      "weighted avg       0.86      0.85      0.85        61\n",
      "\n",
      "0.7941176470588235\n",
      "0.9310344827586207\n",
      "0.8571428571428571\n"
     ]
    }
   ],
   "source": [
    "pred_y_dt =dtree.predict(X_test)\n",
    "print(confusion_matrix(y_test,pred_y_dt))\n",
    "print(accuracy_score(y_test,pred_y_dt))\n",
    "print(classification_report(y_test,pred_y_dt))\n",
    "print(precision_score(y_test, pred_y_dt))\n",
    "print(recall_score(y_test, pred_y_dt))\n",
    "print(f1_score(y_test, pred_y_dt))"
   ]
  },
  {
   "cell_type": "markdown",
   "id": "9c6c862e",
   "metadata": {},
   "source": [
    "# 6.  Naive Bayes"
   ]
  },
  {
   "cell_type": "code",
   "execution_count": 83,
   "id": "30e5f2ad",
   "metadata": {},
   "outputs": [],
   "source": [
    "from sklearn.naive_bayes import GaussianNB"
   ]
  },
  {
   "cell_type": "code",
   "execution_count": 84,
   "id": "590ce460",
   "metadata": {},
   "outputs": [
    {
     "name": "stdout",
     "output_type": "stream",
     "text": [
      "[[28  4]\n",
      " [ 3 26]]\n",
      "0.8852459016393442\n",
      "              precision    recall  f1-score   support\n",
      "\n",
      "           0       0.90      0.88      0.89        32\n",
      "           1       0.87      0.90      0.88        29\n",
      "\n",
      "    accuracy                           0.89        61\n",
      "   macro avg       0.88      0.89      0.89        61\n",
      "weighted avg       0.89      0.89      0.89        61\n",
      "\n",
      "0.8666666666666667\n",
      "0.896551724137931\n",
      "0.8813559322033899\n"
     ]
    }
   ],
   "source": [
    "nb_classifier = GaussianNB()\n",
    "nb_classifier.fit(X_train, y_train)\n",
    "pred_y_nb = nb_classifier.predict(X_test)\n",
    "print(confusion_matrix(y_test,pred_y_nb))\n",
    "print(accuracy_score(y_test,pred_y_nb))\n",
    "print(classification_report(y_test,pred_y_nb))\n",
    "print(precision_score(y_test, pred_y_nb))\n",
    "print(recall_score(y_test, pred_y_nb))\n",
    "print(f1_score(y_test, pred_y_nb))"
   ]
  },
  {
   "cell_type": "markdown",
   "id": "86151c81",
   "metadata": {},
   "source": [
    "# BOOSTING"
   ]
  },
  {
   "cell_type": "markdown",
   "id": "cc3b00b5",
   "metadata": {},
   "source": [
    "# 7. GradientBoost"
   ]
  },
  {
   "cell_type": "code",
   "execution_count": 86,
   "id": "dde74058",
   "metadata": {},
   "outputs": [
    {
     "name": "stdout",
     "output_type": "stream",
     "text": [
      "[[25  7]\n",
      " [ 0 29]]\n",
      "0.8852459016393442\n",
      "              precision    recall  f1-score   support\n",
      "\n",
      "           0       1.00      0.78      0.88        32\n",
      "           1       0.81      1.00      0.89        29\n",
      "\n",
      "    accuracy                           0.89        61\n",
      "   macro avg       0.90      0.89      0.88        61\n",
      "weighted avg       0.91      0.89      0.88        61\n",
      "\n",
      "0.8055555555555556\n",
      "1.0\n",
      "0.8923076923076924\n"
     ]
    }
   ],
   "source": [
    "from sklearn.ensemble import GradientBoostingClassifier\n",
    "grad_boost = GradientBoostingClassifier(learning_rate=0.1)\n",
    "grad_boost.fit(X_train,y_train)\n",
    "y_pred_grad = grad_boost.predict(X_test)\n",
    "from sklearn.metrics import confusion_matrix, classification_report , accuracy_score\n",
    "print(confusion_matrix(y_test, y_pred_grad))\n",
    "print(accuracy_score(y_test,y_pred_grad))\n",
    "print(classification_report(y_test,y_pred_grad))\n",
    "print(precision_score(y_test, y_pred_grad))\n",
    "print(recall_score(y_test, y_pred_grad))\n",
    "print(f1_score(y_test, y_pred_grad))"
   ]
  },
  {
   "cell_type": "markdown",
   "id": "fb94ba01",
   "metadata": {},
   "source": [
    "# 8. AdaBoost"
   ]
  },
  {
   "cell_type": "code",
   "execution_count": 87,
   "id": "83e499b9",
   "metadata": {},
   "outputs": [
    {
     "name": "stdout",
     "output_type": "stream",
     "text": [
      "[[25  7]\n",
      " [ 0 29]]\n",
      "0.8852459016393442\n",
      "              precision    recall  f1-score   support\n",
      "\n",
      "           0       1.00      0.78      0.88        32\n",
      "           1       0.81      1.00      0.89        29\n",
      "\n",
      "    accuracy                           0.89        61\n",
      "   macro avg       0.90      0.89      0.88        61\n",
      "weighted avg       0.91      0.89      0.88        61\n",
      "\n",
      "0.8055555555555556\n",
      "1.0\n",
      "0.8923076923076924\n"
     ]
    }
   ],
   "source": [
    "from sklearn.ensemble import AdaBoostClassifier\n",
    "ada_boost =AdaBoostClassifier()\n",
    "ada_boost.fit(X_train,y_train)\n",
    "y_pred_ada = ada_boost.predict(X_test)\n",
    "from sklearn.metrics import confusion_matrix, classification_report , accuracy_score\n",
    "print(confusion_matrix(y_test, y_pred_ada))\n",
    "print(accuracy_score(y_test,y_pred_ada))\n",
    "print(classification_report(y_test,y_pred_ada))\n",
    "print(precision_score(y_test, y_pred_ada))\n",
    "print(recall_score(y_test, y_pred_ada))\n",
    "print(f1_score(y_test, y_pred_ada))"
   ]
  },
  {
   "cell_type": "markdown",
   "id": "d25118d0",
   "metadata": {},
   "source": [
    "# Xgboost"
   ]
  },
  {
   "cell_type": "code",
   "execution_count": 88,
   "id": "c8748406",
   "metadata": {},
   "outputs": [
    {
     "name": "stdout",
     "output_type": "stream",
     "text": [
      "[[24  8]\n",
      " [ 1 28]]\n",
      "0.8524590163934426\n",
      "              precision    recall  f1-score   support\n",
      "\n",
      "           0       0.96      0.75      0.84        32\n",
      "           1       0.78      0.97      0.86        29\n",
      "\n",
      "    accuracy                           0.85        61\n",
      "   macro avg       0.87      0.86      0.85        61\n",
      "weighted avg       0.87      0.85      0.85        61\n",
      "\n",
      "0.7777777777777778\n",
      "0.9655172413793104\n",
      "0.8615384615384615\n"
     ]
    }
   ],
   "source": [
    "from xgboost import XGBClassifier\n",
    "xg_boost =XGBClassifier()\n",
    "xg_boost.fit(X_train,y_train)\n",
    "y_pred_xg = xg_boost.predict(X_test)\n",
    "from sklearn.metrics import confusion_matrix, classification_report , accuracy_score\n",
    "print(confusion_matrix(y_test, y_pred_xg))\n",
    "print(accuracy_score(y_test,y_pred_xg))\n",
    "print(classification_report(y_test,y_pred_xg))\n",
    "print(precision_score(y_test, y_pred_xg))\n",
    "print(recall_score(y_test, y_pred_xg))\n",
    "print(f1_score(y_test, y_pred_xg))"
   ]
  },
  {
   "cell_type": "markdown",
   "id": "fe13454a",
   "metadata": {},
   "source": [
    "# manual Hyperparameter"
   ]
  },
  {
   "cell_type": "code",
   "execution_count": null,
   "id": "036dd771",
   "metadata": {},
   "outputs": [],
   "source": [
    "#manual"
   ]
  },
  {
   "cell_type": "code",
   "execution_count": null,
   "id": "18ad1ea2",
   "metadata": {},
   "outputs": [],
   "source": [
    "from sklearn.linear_model import LogisticRegression\n",
    "from sklearn.model_selection import GridSearchCV\n",
    "from sklearn.model_selection import train_test_split\n",
    "from sklearn.metrics import accuracy_score\n",
    "\n",
    "# Load a sample dataset (you should replace this with your own dataset)\n",
    "X=df.drop('target',axis=1)\n",
    "y=df['target']\n",
    "\n",
    "# Split the dataset into training and testing sets\n",
    "X_train, X_test, y_train, y_test = train_test_split(X, y, test_size=0.2, random_state=42)\n",
    "\n",
    "# Create a logistic regression model\n",
    "logistic_reg = LogisticRegression()\n",
    "\n",
    "# Define hyperparameter grid for manual tuning\n",
    "param_grid = {\n",
    "    'penalty': ['l1', 'l2'],        # Regularization term\n",
    "    'C': [0.001, 0.01, 0.1, 1, 10]   # Inverse of regularization strength\n",
    "}\n",
    "\n",
    "# Create a GridSearchCV object to search for the best hyperparameters\n",
    "grid_search = GridSearchCV(logistic_reg, param_grid, cv=5, scoring='accuracy')\n",
    "\n",
    "# Fit the GridSearchCV object to the data\n",
    "grid_search.fit(X_train, y_train)\n",
    "\n",
    "# Get the best hyperparameters\n",
    "best_params = grid_search.best_params_\n",
    "print(\"Best Hyperparameters:\", best_params)\n",
    "\n",
    "# Use the best model for predictions\n",
    "best_logistic_reg = grid_search.best_estimator_\n",
    "y_pred = best_logistic_reg.predict(X_test)\n",
    "\n",
    "# Evaluate the model\n",
    "print(\"\\nConfusion Matrix:\")\n",
    "print(confusion_matrix(y_test, y_pred))\n",
    "print(\"\\nAccuracy Score:\")\n",
    "print(accuracy_score(y_test, y_pred))\n",
    "print(\"\\nClassification Report:\")\n",
    "print(classification_report(y_test, y_pred))"
   ]
  },
  {
   "cell_type": "code",
   "execution_count": null,
   "id": "ceeace4a",
   "metadata": {},
   "outputs": [],
   "source": [
    "import numpy as np\n",
    "import matplotlib.pyplot as plt\n",
    "import seaborn as sns\n",
    "from sklearn.metrics import confusion_matrix\n",
    "from sklearn.metrics import accuracy_score\n",
    "\n",
    "\n",
    "# Create a confusion matrix\n",
    "cm = confusion_matrix(y_test, y_pred)\n",
    "ac=accuracy_score(y_test, y_pred)\n",
    "\n",
    "# Normalize the confusion matrix if needed\n",
    "cm = cm.astype('float') / cm.sum(axis=1)[:, np.newaxis]\n",
    "\n",
    "# Create a heatmap\n",
    "plt.figure(figsize=(8, 6))\n",
    "sns.heatmap(cm, annot=True, fmt=\".2f\", cmap=\"Blues\", xticklabels=[0, 1], yticklabels=[0, 1])\n",
    "\n",
    "plt.title('Confusion Matrix Heatmap')\n",
    "plt.xlabel('Predicted Label')\n",
    "plt.ylabel('True Label')\n",
    "plt.show()"
   ]
  },
  {
   "cell_type": "code",
   "execution_count": null,
   "id": "ccb8a200",
   "metadata": {},
   "outputs": [],
   "source": [
    "from sklearn.linear_model import LogisticRegression\n",
    "from sklearn.model_selection import RandomizedSearchCV\n",
    "from scipy.stats import uniform\n",
    "\n",
    "# Create logistic regression model\n",
    "logistic_reg = LogisticRegression()\n",
    "\n",
    "# Define hyperparameter grid\n",
    "param_grid = {\n",
    "    'solver': ['newton-cg', 'lbfgs', 'liblinear', 'sag', 'saga'],\n",
    "    'max_iter': [100, 500, 1000, 1500, 2000],\n",
    "    'C': uniform(loc=0, scale=4)  # Using uniform distribution for C\n",
    "}\n",
    "\n",
    "# Create RandomizedSearchCV\n",
    "random_search = RandomizedSearchCV(\n",
    "    logistic_reg,\n",
    "    param_distributions=param_grid,\n",
    "    n_iter=10,            # Number of parameter settings that are sampled\n",
    "    cv=5,                 # Number of cross-validation folds\n",
    "    random_state=42       # Set a random seed for reproducibility\n",
    ")\n",
    "\n",
    "# Fit the model\n",
    "random_search.fit(X_train, y_train)  # Make sure to replace X_train, y_train with your training data\n",
    "\n",
    "# Get the best parameters\n",
    "best_params = random_search.best_params_\n",
    "print(\"Best Hyperparameters:\", best_params)\n",
    "\n",
    "# Use the best model for predictions\n",
    "best_logistic_reg = random_search.best_estimator_\n",
    "\n",
    "# Evaluate the model\n",
    "print(\"\\nConfusion Matrix:\")\n",
    "print(confusion_matrix(y_test, y_pred))\n",
    "print(\"\\nAccuracy Score:\")\n",
    "print(accuracy_score(y_test, y_pred))\n",
    "print(\"\\nClassification Report:\")\n",
    "print(classification_report(y_test, y_pred))\n"
   ]
  },
  {
   "cell_type": "code",
   "execution_count": null,
   "id": "863d4bba",
   "metadata": {},
   "outputs": [],
   "source": [
    "import lime\n",
    "import lime.lime_tabular\n",
    "from lime.lime_tabular import LimeTabularExplainer"
   ]
  },
  {
   "cell_type": "code",
   "execution_count": null,
   "id": "45c35d4f",
   "metadata": {},
   "outputs": [],
   "source": [
    "explainer = LimeTabularExplainer(X_train.values,feature_names = X_train.columns.values.tolist(),class_names=['TYPE'],mode=\"regression\")\n",
    "exap = explainer.explain_instance(X_train.values[101],best_logistic_reg.predict,num_features=6)"
   ]
  },
  {
   "cell_type": "code",
   "execution_count": null,
   "id": "578f790b",
   "metadata": {},
   "outputs": [],
   "source": [
    "exap.as_pyplot_figure()\n",
    "from matplotlib import pyplot as plt\n",
    "plt.tight_layout()"
   ]
  },
  {
   "cell_type": "code",
   "execution_count": null,
   "id": "093cc66c",
   "metadata": {},
   "outputs": [],
   "source": [
    "exap.show_in_notebook(show_table= True)"
   ]
  },
  {
   "cell_type": "code",
   "execution_count": null,
   "id": "77bbbb37",
   "metadata": {},
   "outputs": [],
   "source": [
    "exap = explainer.explain_instance(X_train.values[85],best_logistic_reg.predict,num_features=6)\n",
    "exap.as_pyplot_figure()\n",
    "from matplotlib import pyplot as plt\n",
    "plt.tight_layout()\n",
    "exap.show_in_notebook(show_table= True)"
   ]
  },
  {
   "cell_type": "code",
   "execution_count": null,
   "id": "43d201f6",
   "metadata": {},
   "outputs": [],
   "source": [
    "exap = explainer.explain_instance(X_train.values[15],best_logistic_reg.predict,num_features=6)\n",
    "exap.as_pyplot_figure()\n",
    "from matplotlib import pyplot as plt\n",
    "plt.tight_layout()\n",
    "exap.show_in_notebook(show_table= True)"
   ]
  },
  {
   "cell_type": "code",
   "execution_count": null,
   "id": "21f61883",
   "metadata": {},
   "outputs": [],
   "source": [
    "pip install shap"
   ]
  },
  {
   "cell_type": "code",
   "execution_count": null,
   "id": "f1c1a0de",
   "metadata": {},
   "outputs": [],
   "source": [
    "pip install shapash"
   ]
  },
  {
   "cell_type": "code",
   "execution_count": null,
   "id": "f3ddd131",
   "metadata": {
    "scrolled": true
   },
   "outputs": [],
   "source": [
    "from shapash.explainer.smart_explainer import SmartExplainer\n",
    "xpl = SmartExplainer(best_logistic_reg)\n",
    "xpl.compile(x=X_test)\n",
    "xpl.plot.features_importance()"
   ]
  },
  {
   "cell_type": "code",
   "execution_count": null,
   "id": "e1dcd848",
   "metadata": {},
   "outputs": [],
   "source": [
    "xpl.plot.contribution_plot('cp')"
   ]
  },
  {
   "cell_type": "code",
   "execution_count": null,
   "id": "1ca357bf",
   "metadata": {},
   "outputs": [],
   "source": []
  }
 ],
 "metadata": {
  "kernelspec": {
   "display_name": "Python 3 (ipykernel)",
   "language": "python",
   "name": "python3"
  },
  "language_info": {
   "codemirror_mode": {
    "name": "ipython",
    "version": 3
   },
   "file_extension": ".py",
   "mimetype": "text/x-python",
   "name": "python",
   "nbconvert_exporter": "python",
   "pygments_lexer": "ipython3",
   "version": "3.11.5"
  }
 },
 "nbformat": 4,
 "nbformat_minor": 5
}
